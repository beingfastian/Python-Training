{
  "nbformat": 4,
  "nbformat_minor": 0,
  "metadata": {
    "colab": {
      "provenance": []
    },
    "kernelspec": {
      "name": "python3",
      "display_name": "Python 3"
    },
    "language_info": {
      "name": "python"
    }
  },
  "cells": [
    {
      "cell_type": "code",
      "execution_count": 5,
      "metadata": {
        "colab": {
          "base_uri": "https://localhost:8080/"
        },
        "id": "y6o4yejM38sN",
        "outputId": "8bc7fd32-523c-494f-ecea-4f0cd9ad57e0"
      },
      "outputs": [
        {
          "output_type": "stream",
          "name": "stdout",
          "text": [
            "Wrapper: Something before the function runs.\n",
            "Hello!\n",
            "Wrapper: Something after the function runs.\n",
            "Wrapper: Something before the function runs.\n",
            "Wrapper: Something after the function runs.\n"
          ]
        }
      ],
      "source": [
        "def decorator_function(original_function):\n",
        "    def wrapper_function(*args):\n",
        "        print(\"Wrapper: Something before the function runs.\")\n",
        "        original_function(*args)\n",
        "        print(\"Wrapper: Something after the function runs.\")\n",
        "    return wrapper_function\n",
        "\n",
        "@decorator_function\n",
        "def say_hello():\n",
        "\n",
        "    print(\"Hello!\")\n",
        "say_hello()\n",
        "@decorator_function\n",
        "def add(a, b):\n",
        "  return a+b\n",
        "add(2, 2)"
      ]
    },
    {
      "cell_type": "code",
      "source": [
        "def calculator_decorator(calculate):\n",
        "    def wrapper_function(*args, **kwargs):\n",
        "      print(f\"Calling Function {calculate.__name__}\")\n",
        "      result = calculate(*args, **kwargs)\n",
        "      print(f\"Function {calculate.__name__} completed.\\n\")\n",
        "      return result\n",
        "    return wrapper_function\n",
        "\n",
        "class Calculator:\n",
        "  @staticmethod\n",
        "  @calculator_decorator\n",
        "  def add(a,b):\n",
        "    print(f\"The Addition of {a} and {b}: {a + b}\")\n",
        "  @staticmethod\n",
        "  @calculator_decorator\n",
        "  def sub(a,b):\n",
        "    print(f\"The Substraction of {a} and {b}: {a - b}\")\n",
        "  @staticmethod\n",
        "  @calculator_decorator\n",
        "  def mul(a,b):\n",
        "    print(f\"The Multplication of {a} and {b}: {a * b}\")\n",
        "  @staticmethod\n",
        "  @calculator_decorator\n",
        "  def div(a,b):\n",
        "    print(f\"The Division of {a} and {b}: {a / b}\")\n",
        "c = Calculator()\n",
        "c.add(2,2)\n",
        "c.sub(2,2)\n",
        "c.mul(2,2)\n",
        "c.div(2,2)"
      ],
      "metadata": {
        "colab": {
          "base_uri": "https://localhost:8080/"
        },
        "id": "pr2zmTF54DEC",
        "outputId": "00fa3759-b582-40f7-df9c-df8c674db751"
      },
      "execution_count": 13,
      "outputs": [
        {
          "output_type": "stream",
          "name": "stdout",
          "text": [
            "Calling Function add\n",
            "The Addition of 2 and 2: 4\n",
            "Function add completed.\n",
            "\n",
            "Calling Function sub\n",
            "The Substraction of 2 and 2: 0\n",
            "Function sub completed.\n",
            "\n",
            "Calling Function mul\n",
            "The Multplication of 2 and 2: 4\n",
            "Function mul completed.\n",
            "\n",
            "Calling Function div\n",
            "The Division of 2 and 2: 1.0\n",
            "Function div completed.\n",
            "\n"
          ]
        }
      ]
    },
    {
      "cell_type": "code",
      "source": [],
      "metadata": {
        "id": "P6xd6HuzNoTQ"
      },
      "execution_count": 6,
      "outputs": []
    }
  ]
}