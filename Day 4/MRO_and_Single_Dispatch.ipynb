{
  "nbformat": 4,
  "nbformat_minor": 0,
  "metadata": {
    "colab": {
      "provenance": []
    },
    "kernelspec": {
      "name": "python3",
      "display_name": "Python 3"
    },
    "language_info": {
      "name": "python"
    }
  },
  "cells": [
    {
      "cell_type": "markdown",
      "source": [
        "**MRO**"
      ],
      "metadata": {
        "id": "jB6K_oxqQv2K"
      }
    },
    {
      "cell_type": "code",
      "execution_count": 1,
      "metadata": {
        "colab": {
          "base_uri": "https://localhost:8080/"
        },
        "id": "NTYDSoiTQon8",
        "outputId": "ea9edf8c-6345-4214-b3af-8c03eec1ba4c"
      },
      "outputs": [
        {
          "output_type": "stream",
          "name": "stdout",
          "text": [
            "B\n",
            "[<class '__main__.D'>, <class '__main__.B'>, <class '__main__.C'>, <class '__main__.A'>, <class 'object'>]\n"
          ]
        }
      ],
      "source": [
        "class A:\n",
        "    def say(self):\n",
        "        print(\"A\")\n",
        "class B(A):\n",
        "    def say(self):\n",
        "        print(\"B\")\n",
        "class C(A):\n",
        "    def say(self):\n",
        "        print(\"C\")\n",
        "class D(B, C):\n",
        "    pass\n",
        "d = D()\n",
        "d.say()\n",
        "print(D.mro())"
      ]
    },
    {
      "cell_type": "markdown",
      "source": [
        "**Single Dispatch**"
      ],
      "metadata": {
        "id": "fVEi83fESAI2"
      }
    },
    {
      "cell_type": "code",
      "source": [
        "from functools import singledispatch\n",
        "@singledispatch\n",
        "def show(data):\n",
        "    print(\"Default:\", data)\n",
        "@show.register(int)\n",
        "def _(data):\n",
        "    print(\"Integer:\", data)\n",
        "@show.register(str)\n",
        "def _(data):\n",
        "    print(\"String:\", data)\n",
        "@show.register(list)\n",
        "def _(data):\n",
        "    print(\"List with\", len(data), \"elements\")\n",
        "show(42)\n",
        "show(\"hello\")\n",
        "show([1, 2, 3])\n",
        "show(3.14)"
      ],
      "metadata": {
        "colab": {
          "base_uri": "https://localhost:8080/"
        },
        "id": "RW9v_BQHSFqK",
        "outputId": "17a03692-73be-4d7d-c8d9-07f9593be6f1"
      },
      "execution_count": 2,
      "outputs": [
        {
          "output_type": "stream",
          "name": "stdout",
          "text": [
            "Integer: 42\n",
            "String: hello\n",
            "List with 3 elements\n",
            "Default: 3.14\n"
          ]
        }
      ]
    },
    {
      "cell_type": "code",
      "source": [],
      "metadata": {
        "id": "5gw9DJOASYQU"
      },
      "execution_count": null,
      "outputs": []
    }
  ]
}