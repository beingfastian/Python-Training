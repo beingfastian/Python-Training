{
 "cells": [
  {
   "cell_type": "markdown",
   "id": "6aa062b0",
   "metadata": {},
   "source": [
    "# NumPy - Basic Examples"
   ]
  },
  {
   "cell_type": "code",
   "execution_count": null,
   "id": "e67d7dbc",
   "metadata": {},
   "outputs": [],
   "source": [
    "import numpy as np"
   ]
  },
  {
   "cell_type": "code",
   "execution_count": null,
   "id": "88586a7a",
   "metadata": {},
   "outputs": [],
   "source": [
    "# Create 1D, 2D, 3D Arrays"
   ]
  },
  {
   "cell_type": "code",
   "execution_count": null,
   "id": "1cc6c1b5",
   "metadata": {},
   "outputs": [],
   "source": [
    "arr1 = np.array([1, 2, 3])\n",
    "arr2 = np.array([[1, 2], [3, 4]])\n",
    "arr3 = np.array([[[1], [2]], [[3], [4]]])\n",
    "print(arr1, arr2, arr3)"
   ]
  },
  {
   "cell_type": "code",
   "execution_count": null,
   "id": "d5b3f860",
   "metadata": {},
   "outputs": [],
   "source": [
    "# Indexing and Slicing"
   ]
  },
  {
   "cell_type": "code",
   "execution_count": null,
   "id": "3c985413",
   "metadata": {},
   "outputs": [],
   "source": [
    "a = np.array([10, 20, 30, 40, 50])\n",
    "print(a[1])\n",
    "print(a[1:4])"
   ]
  },
  {
   "cell_type": "code",
   "execution_count": null,
   "id": "c79a4632",
   "metadata": {},
   "outputs": [],
   "source": [
    "# Array Operations"
   ]
  },
  {
   "cell_type": "code",
   "execution_count": null,
   "id": "65624e48",
   "metadata": {},
   "outputs": [],
   "source": [
    "x = np.array([1, 2, 3])\n",
    "y = np.array([10, 20, 30])\n",
    "print(x + y)\n",
    "print(x * 2)\n",
    "print(x < 3)"
   ]
  },
  {
   "cell_type": "code",
   "execution_count": null,
   "id": "fa1b1d5a",
   "metadata": {},
   "outputs": [],
   "source": [
    "# Common Array Functions"
   ]
  },
  {
   "cell_type": "code",
   "execution_count": null,
   "id": "d885a158",
   "metadata": {},
   "outputs": [],
   "source": [
    "print(np.zeros((2, 3)))\n",
    "print(np.ones((1, 4)))\n",
    "print(np.arange(0, 10, 2))\n",
    "print(np.linspace(0, 1, 5))"
   ]
  },
  {
   "cell_type": "code",
   "execution_count": null,
   "id": "a6172f43",
   "metadata": {},
   "outputs": [],
   "source": [
    "# Reshape and Transpose"
   ]
  },
  {
   "cell_type": "code",
   "execution_count": null,
   "id": "ffb70ace",
   "metadata": {},
   "outputs": [],
   "source": [
    "a = np.arange(6)\n",
    "b = a.reshape((2, 3))\n",
    "print(b.T)"
   ]
  },
  {
   "cell_type": "code",
   "execution_count": null,
   "id": "f266540c",
   "metadata": {},
   "outputs": [],
   "source": [
    "# Math Functions"
   ]
  },
  {
   "cell_type": "code",
   "execution_count": null,
   "id": "78c448d4",
   "metadata": {},
   "outputs": [],
   "source": [
    "a = np.array([1, 2, 3, 4])\n",
    "print(np.sum(a))\n",
    "print(np.mean(a))\n",
    "print(np.std(a))"
   ]
  },
  {
   "cell_type": "code",
   "execution_count": null,
   "id": "90079377",
   "metadata": {},
   "outputs": [],
   "source": [
    "# Boolean Indexing"
   ]
  },
  {
   "cell_type": "code",
   "execution_count": null,
   "id": "0133724d",
   "metadata": {},
   "outputs": [],
   "source": [
    "a = np.array([5, 10, 15, 20])\n",
    "print(a[a > 10])"
   ]
  },
  {
   "cell_type": "code",
   "execution_count": null,
   "id": "ffa83248",
   "metadata": {},
   "outputs": [],
   "source": [
    "# Random Numbers"
   ]
  },
  {
   "cell_type": "code",
   "execution_count": null,
   "id": "00c17b08",
   "metadata": {},
   "outputs": [],
   "source": [
    "np.random.seed(0)\n",
    "print(np.random.rand(2, 2))\n",
    "print(np.random.randint(1, 10, 5))"
   ]
  }
 ],
 "metadata": {},
 "nbformat": 4,
 "nbformat_minor": 5
}