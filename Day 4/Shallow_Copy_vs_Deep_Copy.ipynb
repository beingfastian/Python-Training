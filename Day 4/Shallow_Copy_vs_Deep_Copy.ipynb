{
  "nbformat": 4,
  "nbformat_minor": 0,
  "metadata": {
    "colab": {
      "provenance": []
    },
    "kernelspec": {
      "name": "python3",
      "display_name": "Python 3"
    },
    "language_info": {
      "name": "python"
    }
  },
  "cells": [
    {
      "cell_type": "code",
      "execution_count": 1,
      "metadata": {
        "colab": {
          "base_uri": "https://localhost:8080/"
        },
        "id": "MJ4eMbhsj7VX",
        "outputId": "713249bc-cfe6-45cb-9af8-c4a881a0bd3a"
      },
      "outputs": [
        {
          "output_type": "stream",
          "name": "stdout",
          "text": [
            "Original: [[99, 2], [3, 4]]\n",
            "Shallow: [[99, 2], [3, 4]]\n"
          ]
        }
      ],
      "source": [
        "original = [[1, 2], [3, 4]]\n",
        "shallow = original[:]\n",
        "\n",
        "shallow[0][0] = 99\n",
        "\n",
        "print(\"Original:\", original)\n",
        "print(\"Shallow:\", shallow)"
      ]
    },
    {
      "cell_type": "code",
      "source": [
        "original = [[1, 2], [3, 4]]\n",
        "deep = [inner[:]for inner in original]\n",
        "deep[0][0] = 100\n",
        "print(\"Original:\", original)\n",
        "print(\"Deep:\", deep)"
      ],
      "metadata": {
        "colab": {
          "base_uri": "https://localhost:8080/"
        },
        "id": "WNHyms5YlSJQ",
        "outputId": "b4321438-e353-4514-9c48-59134fe74992"
      },
      "execution_count": 2,
      "outputs": [
        {
          "output_type": "stream",
          "name": "stdout",
          "text": [
            "Original: [[1, 2], [3, 4]]\n",
            "Deep: [[100, 2], [3, 4]]\n"
          ]
        }
      ]
    },
    {
      "cell_type": "code",
      "source": [],
      "metadata": {
        "id": "ikUznjfYnflG"
      },
      "execution_count": null,
      "outputs": []
    }
  ]
}