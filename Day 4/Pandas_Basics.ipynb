{
 "cells": [
  {
   "cell_type": "markdown",
   "id": "5e8b178c",
   "metadata": {},
   "source": [
    "# Pandas - Basic Examples"
   ]
  },
  {
   "cell_type": "code",
   "execution_count": null,
   "id": "fa63d405",
   "metadata": {},
   "outputs": [],
   "source": [
    "import pandas as pd"
   ]
  },
  {
   "cell_type": "code",
   "execution_count": null,
   "id": "8b4b7930",
   "metadata": {},
   "outputs": [],
   "source": [
    "# Create Series and DataFrame"
   ]
  },
  {
   "cell_type": "code",
   "execution_count": null,
   "id": "0f1087b0",
   "metadata": {},
   "outputs": [],
   "source": [
    "s = pd.Series([10, 20, 30])\n",
    "df = pd.DataFrame({'Name': ['Ali', 'Sara', 'Ahmed'], 'Marks': [85, 92, 78]})\n",
    "print(df)"
   ]
  },
  {
   "cell_type": "code",
   "execution_count": null,
   "id": "f6323d5a",
   "metadata": {},
   "outputs": [],
   "source": [
    "# Read and Write CSV"
   ]
  },
  {
   "cell_type": "code",
   "execution_count": null,
   "id": "8e0d22ad",
   "metadata": {},
   "outputs": [],
   "source": [
    "# df = pd.read_csv('sample.csv')\n",
    "# df.to_csv('output.csv', index=False)"
   ]
  },
  {
   "cell_type": "code",
   "execution_count": null,
   "id": "947f30e6",
   "metadata": {},
   "outputs": [],
   "source": [
    "# Select Rows and Columns"
   ]
  },
  {
   "cell_type": "code",
   "execution_count": null,
   "id": "281ef1f4",
   "metadata": {},
   "outputs": [],
   "source": [
    "print(df['Marks'])\n",
    "print(df.loc[0])\n",
    "print(df.iloc[1])"
   ]
  },
  {
   "cell_type": "code",
   "execution_count": null,
   "id": "0aab903c",
   "metadata": {},
   "outputs": [],
   "source": [
    "# Filter Data"
   ]
  },
  {
   "cell_type": "code",
   "execution_count": null,
   "id": "996f2a02",
   "metadata": {},
   "outputs": [],
   "source": [
    "print(df[df['Marks'] > 80])"
   ]
  },
  {
   "cell_type": "code",
   "execution_count": null,
   "id": "fc9615d5",
   "metadata": {},
   "outputs": [],
   "source": [
    "# Describe, Info, Shape"
   ]
  },
  {
   "cell_type": "code",
   "execution_count": null,
   "id": "20f72222",
   "metadata": {},
   "outputs": [],
   "source": [
    "print(df.describe())\n",
    "print(df.info())\n",
    "print(df.shape)"
   ]
  },
  {
   "cell_type": "code",
   "execution_count": null,
   "id": "c015b451",
   "metadata": {},
   "outputs": [],
   "source": [
    "# Group By"
   ]
  },
  {
   "cell_type": "code",
   "execution_count": null,
   "id": "e3857213",
   "metadata": {},
   "outputs": [],
   "source": [
    "data = pd.DataFrame({'Class': ['A', 'A', 'B', 'B'], 'Score': [85, 90, 78, 82]})\n",
    "print(data.groupby('Class')['Score'].mean())"
   ]
  },
  {
   "cell_type": "code",
   "execution_count": null,
   "id": "8b5280ce",
   "metadata": {},
   "outputs": [],
   "source": [
    "# Handling Missing Data"
   ]
  },
  {
   "cell_type": "code",
   "execution_count": null,
   "id": "77840035",
   "metadata": {},
   "outputs": [],
   "source": [
    "df = pd.DataFrame({'Name': ['Ali', 'Sara', None], 'Score': [90, None, 85]})\n",
    "print(df.fillna('Unknown'))\n",
    "print(df.dropna())"
   ]
  },
  {
   "cell_type": "code",
   "execution_count": null,
   "id": "ed9df793",
   "metadata": {},
   "outputs": [],
   "source": [
    "# Sorting"
   ]
  },
  {
   "cell_type": "code",
   "execution_count": null,
   "id": "d3e94425",
   "metadata": {},
   "outputs": [],
   "source": [
    "df = pd.DataFrame({'Name': ['Ali', 'Sara', 'Ahmed'], 'Score': [85, 92, 78]})\n",
    "print(df.sort_values(by='Score'))"
   ]
  },
  {
   "cell_type": "code",
   "execution_count": null,
   "id": "8ac95596",
   "metadata": {},
   "outputs": [],
   "source": [
    "# Merging DataFrames"
   ]
  },
  {
   "cell_type": "code",
   "execution_count": null,
   "id": "9d5794db",
   "metadata": {},
   "outputs": [],
   "source": [
    "a = pd.DataFrame({'ID': [1, 2], 'Name': ['Ali', 'Sara']})\n",
    "b = pd.DataFrame({'ID': [1, 2], 'Marks': [90, 95]})\n",
    "merged = pd.merge(a, b, on='ID')\n",
    "print(merged)"
   ]
  },
  {
   "cell_type": "code",
   "execution_count": null,
   "id": "c0f19b38",
   "metadata": {},
   "outputs": [],
   "source": [
    "# Working with Dates"
   ]
  },
  {
   "cell_type": "code",
   "execution_count": null,
   "id": "60dba115",
   "metadata": {},
   "outputs": [],
   "source": [
    "df = pd.DataFrame({'Date': ['2024-01-01', '2024-02-15']})\n",
    "df['Date'] = pd.to_datetime(df['Date'])\n",
    "print(df['Date'].dt.month)"
   ]
  }
 ],
 "metadata": {},
 "nbformat": 4,
 "nbformat_minor": 5
}