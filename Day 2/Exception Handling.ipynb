{
 "cells": [
  {
   "cell_type": "markdown",
   "id": "57a287ba-b890-4e28-a7cc-3c5116d41bfd",
   "metadata": {},
   "source": [
    "try-except"
   ]
  },
  {
   "cell_type": "code",
   "execution_count": 2,
   "id": "fb2e07d9-15b8-40a4-b1a2-30e072987681",
   "metadata": {},
   "outputs": [
    {
     "name": "stdin",
     "output_type": "stream",
     "text": [
      "Enter Number a:  1\n",
      "Enter Number b:  0\n"
     ]
    },
    {
     "name": "stdout",
     "output_type": "stream",
     "text": [
      "You can't divide by zero.\n"
     ]
    }
   ],
   "source": [
    "try:\n",
    "    a = int(input(\"Enter Number a: \"))\n",
    "    b = int(input(\"Enter Number b: \"))\n",
    "    c = a / b\n",
    "    print(\"Result:\", c)\n",
    "except ZeroDivisionError:\n",
    "    print(\"You can't divide by zero.\")\n",
    "except TypeError:\n",
    "    print(\"Invalid type used.\")\n",
    "except ValueError:\n",
    "    print(\"Please enter valid numbers.\")\n"
   ]
  },
  {
   "cell_type": "markdown",
   "id": "2b0b6637-4610-4f55-804c-fa55e33c2f7a",
   "metadata": {},
   "source": [
    "try-except-else"
   ]
  },
  {
   "cell_type": "code",
   "execution_count": 12,
   "id": "ab7930af-388d-4278-ab48-8db99d324438",
   "metadata": {},
   "outputs": [
    {
     "name": "stdin",
     "output_type": "stream",
     "text": [
      "Enter Number a:  1\n",
      "Entrt Number b:  0\n"
     ]
    },
    {
     "name": "stdout",
     "output_type": "stream",
     "text": [
      "<class 'ZeroDivisionError'>\n"
     ]
    }
   ],
   "source": [
    "try:\n",
    "    a = input(\"Enter Number a: \")\n",
    "    b = input(\"Entrt Number b: \")\n",
    "    a = int(a)\n",
    "    b = int(b)\n",
    "    c = a / b\n",
    "    print(c)\n",
    "except ValueError:\n",
    "    print(\"Value Error\", ValueError)\n",
    "except TypeError:\n",
    "    print(\"Type Error\", TypeError)\n",
    "except ZeroDivisionError:\n",
    "    print(ZeroDivisionError)\n",
    "else:\n",
    "    print(\"Execution Completed!!\")\n"
   ]
  },
  {
   "cell_type": "code",
   "execution_count": 14,
   "id": "6f63df17-8c11-487b-935a-79de771b629a",
   "metadata": {},
   "outputs": [
    {
     "name": "stdin",
     "output_type": "stream",
     "text": [
      "Enter Number a:  1\n",
      "Entrt Number b:  1\n"
     ]
    },
    {
     "name": "stdout",
     "output_type": "stream",
     "text": [
      "1.0\n",
      "Execution Completed!!\n",
      "Runs Successfully\n"
     ]
    }
   ],
   "source": [
    "try:\n",
    "    a = input(\"Enter Number a: \")\n",
    "    b = input(\"Entrt Number b: \")\n",
    "    a = int(a)\n",
    "    b = int(b)\n",
    "    c = a / b\n",
    "    print(c)\n",
    "except ValueError:\n",
    "    print(\"Value Error\", ValueError)\n",
    "except TypeError:\n",
    "    print(\"Type Error\", TypeError)\n",
    "except ZeroDivisionError:\n",
    "    print(ZeroDivisionError)\n",
    "else:\n",
    "    print(\"Execution Completed!!\")\n",
    "finally:\n",
    "    print(\"Runs Successfully\")"
   ]
  },
  {
   "cell_type": "markdown",
   "id": "d79d48d7-3b62-4b9d-9be1-6a2941381fd7",
   "metadata": {},
   "source": [
    "Combined try-except-else-finally"
   ]
  },
  {
   "cell_type": "code",
   "execution_count": 30,
   "id": "3f1728ea-6a37-4f57-a282-d3c44741fccb",
   "metadata": {},
   "outputs": [
    {
     "name": "stdin",
     "output_type": "stream",
     "text": [
      "Enter First Number:  1\n",
      "Enter Second Number:  1\n",
      "Enter Operator (+, -, *, /):  +\n"
     ]
    },
    {
     "name": "stdout",
     "output_type": "stream",
     "text": [
      "\n",
      "Result: 1 + 1 = 2\n",
      "Thank you for using Calculator!\n"
     ]
    }
   ],
   "source": [
    "def get_number(prompt):\n",
    "    \"\"\"Prompts user until a valid integer is entered.\"\"\"\n",
    "    while True:\n",
    "        try:\n",
    "            return int(input(prompt))\n",
    "        except Exception as e:\n",
    "            print(\"Invalid input:\", e)\n",
    "\n",
    "def get_operator(prompt):\n",
    "    \"\"\"Prompts user until a valid operator is entered.\"\"\"\n",
    "    while True:\n",
    "        try:\n",
    "            op = input(prompt)\n",
    "            operators = [\"+\", \"-\", \"*\", \"/\"]\n",
    "            if op not in operators:\n",
    "                raise ValueError(f\"Unsupported operator: {op}\")\n",
    "            return op\n",
    "        except ValueError as ve:\n",
    "            print(ve)\n",
    "        except Exception as e:\n",
    "            print(\"Unexpected error:\", e)\n",
    "\n",
    "def calculator():\n",
    "    try:\n",
    "        a = get_number(\"Enter First Number: \")\n",
    "        b = get_number(\"Enter Second Number: \")\n",
    "        op = get_operator(\"Enter Operator (+, -, *, /): \")\n",
    "\n",
    "        if op == \"+\":\n",
    "            result = a + b\n",
    "        elif op == \"-\":\n",
    "            result = a - b\n",
    "        elif op == \"*\":\n",
    "            result = a * b\n",
    "        elif op == \"/\":\n",
    "            result = a / b  # could raise ZeroDivisionError\n",
    "\n",
    "    except ValueError:\n",
    "        print(\"Invalid value encountered.\")\n",
    "    except TypeError:\n",
    "        print(\"Type mismatch occurred.\")\n",
    "    except ZeroDivisionError:\n",
    "        print(\"Cannot divide by zero.\")\n",
    "    except Exception as e:\n",
    "        print(\"Something went wrong:\", e)\n",
    "    else:\n",
    "        print(f\"\\nResult: {a} {op} {b} = {result}\")\n",
    "    finally:\n",
    "        print(\"Thank you for using Calculator!\")\n",
    "\n",
    "if __name__ == \"__main__\":\n",
    "    calculator()\n"
   ]
  }
 ],
 "metadata": {
  "kernelspec": {
   "display_name": "Python 3 (ipykernel)",
   "language": "python",
   "name": "python3"
  },
  "language_info": {
   "codemirror_mode": {
    "name": "ipython",
    "version": 3
   },
   "file_extension": ".py",
   "mimetype": "text/x-python",
   "name": "python",
   "nbconvert_exporter": "python",
   "pygments_lexer": "ipython3",
   "version": "3.11.4"
  }
 },
 "nbformat": 4,
 "nbformat_minor": 5
}
