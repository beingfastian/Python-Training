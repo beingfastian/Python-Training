{
 "cells": [
  {
   "cell_type": "markdown",
   "id": "466d91e5-c11a-4601-bfcc-513264811f97",
   "metadata": {},
   "source": [
    "Classes & Objects"
   ]
  },
  {
   "cell_type": "code",
   "execution_count": 2,
   "id": "67be76ba-cbf8-4b3d-acf6-18bda757f1a0",
   "metadata": {},
   "outputs": [
    {
     "name": "stdin",
     "output_type": "stream",
     "text": [
      "Enter Name:  Hanzla \n",
      "Enter Age:  24\n"
     ]
    },
    {
     "name": "stdout",
     "output_type": "stream",
     "text": [
      "The Data of Person is \n",
      "Hanzla \n",
      "24\n"
     ]
    }
   ],
   "source": [
    "class Person:\n",
    "    def input(self):\n",
    "        self.name = input(\"Enter Name: \")\n",
    "        self.age  = int(input(\"Enter Age: \"))\n",
    "    def display(self):\n",
    "        print(f\"The Data of Person is \\n{self.name}\\n{self.age}\")\n",
    "\n",
    "p = Person()\n",
    "p.input()\n",
    "p.display()"
   ]
  },
  {
   "cell_type": "code",
   "execution_count": 3,
   "id": "5cdff8f5-4e7b-461e-9f53-3677ad791ac7",
   "metadata": {},
   "outputs": [
    {
     "name": "stdin",
     "output_type": "stream",
     "text": [
      "Enter Name:  Hanzla\n",
      "Enter Age:  24\n"
     ]
    },
    {
     "name": "stdout",
     "output_type": "stream",
     "text": [
      "The Data of Person is:\n",
      "Name: Hanzla\n",
      "Age: 24\n"
     ]
    }
   ],
   "source": [
    "class Person:\n",
    "    def __init__(self):\n",
    "        self.name = input(\"Enter Name: \")\n",
    "        self.age = int(input(\"Enter Age: \"))\n",
    "    def display(self):\n",
    "        \"\"\"Displays the name and age of the person.\"\"\"\n",
    "        print(f\"The Data of Person is:\\nName: {self.name}\\nAge: {self.age}\")\n",
    "p = Person()\n",
    "p.display()"
   ]
  },
  {
   "cell_type": "code",
   "execution_count": null,
   "id": "5504cd86-48fd-4f02-b85c-a56f53d79ca2",
   "metadata": {},
   "outputs": [],
   "source": []
  }
 ],
 "metadata": {
  "kernelspec": {
   "display_name": "Python 3 (ipykernel)",
   "language": "python",
   "name": "python3"
  },
  "language_info": {
   "codemirror_mode": {
    "name": "ipython",
    "version": 3
   },
   "file_extension": ".py",
   "mimetype": "text/x-python",
   "name": "python",
   "nbconvert_exporter": "python",
   "pygments_lexer": "ipython3",
   "version": "3.11.4"
  }
 },
 "nbformat": 4,
 "nbformat_minor": 5
}
