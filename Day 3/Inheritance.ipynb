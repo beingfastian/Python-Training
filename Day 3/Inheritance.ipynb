{
 "cells": [
  {
   "cell_type": "code",
   "execution_count": 1,
   "id": "7d1e57fb-3fa0-46c1-8547-73a656b5c33e",
   "metadata": {},
   "outputs": [],
   "source": [
    "# Single Inheritance\n",
    "class Animal:\n",
    "    def __init__(self, name, species):\n",
    "        self.name = name\n",
    "        self.species = species\n",
    "    def make_sound(self):\n",
    "        print(f\"{self.name} makes a sound\")\n",
    "    def info(self):\n",
    "        print(f\"Name: {self.name}, Species: {self.species}\")"
   ]
  },
  {
   "cell_type": "code",
   "execution_count": 2,
   "id": "c715e03d-4d3c-4dc0-80d9-238a4ebd2226",
   "metadata": {},
   "outputs": [],
   "source": [
    "class Dog(Animal):\n",
    "    def __init__(self, name, breed):\n",
    "        super().__init__(name, \"Canine\")\n",
    "        self.breed = breed\n",
    "    def make_sound(self):\n",
    "        print(f\"{self.name} barks: Woof!\")\n",
    "    def fetch(self):\n",
    "        print(f\"{self.name} fetches the ball\")"
   ]
  },
  {
   "cell_type": "code",
   "execution_count": 3,
   "id": "7cfc6cbb-4abc-4721-ae84-ca4032a239c5",
   "metadata": {},
   "outputs": [],
   "source": [
    "# Multi-level Inheritance\n",
    "class Mammal(Animal):\n",
    "    def __init__(self, name, species, fur_color):\n",
    "        super().__init__(name, species)\n",
    "        self.fur_color = fur_color\n",
    "    def breathe(self):\n",
    "        print(f\"{self.name} breathes air\")\n",
    "class Cat(Mammal):\n",
    "    def __init__(self, name, breed, fur_color):\n",
    "        super().__init__(name, \"Feline\", fur_color)\n",
    "        self.breed = breed\n",
    "    def make_sound(self):\n",
    "        print(f\"{self.name} meows: Meow!\")\n",
    "    def purr(self):\n",
    "        print(f\"{self.name} purrs contentedly\")"
   ]
  },
  {
   "cell_type": "code",
   "execution_count": 4,
   "id": "a8f88ef4-4708-4899-9c55-66260547469a",
   "metadata": {},
   "outputs": [],
   "source": [
    "# Multiple Inheritance\n",
    "class Flyable:\n",
    "    def fly(self):\n",
    "        print(\"Flying in the sky\")\n",
    "class Swimmable:\n",
    "    def swim(self):\n",
    "        print(\"Swimming in water\")\n",
    "class Duck(Animal, Flyable, Swimmable):\n",
    "    def __init__(self, name):\n",
    "        super().__init__(name, \"Waterfowl\")\n",
    "    def make_sound(self):\n",
    "        print(f\"{self.name} quacks: Quack!\")"
   ]
  },
  {
   "cell_type": "code",
   "execution_count": 5,
   "id": "531b7055-1ef1-4739-bff3-5e9398195efe",
   "metadata": {},
   "outputs": [],
   "source": [
    "# Hierarchical Inheritance\n",
    "class Bird(Animal):\n",
    "    def __init__(self, name, wing_span):\n",
    "        super().__init__(name, \"Avian\")\n",
    "        self.wing_span = wing_span    \n",
    "    def make_sound(self):\n",
    "        print(f\"{self.name} chirps\")\n",
    "class Eagle(Bird):\n",
    "    def __init__(self, name, wing_span):\n",
    "        super().__init__(name, wing_span)\n",
    "    def hunt(self):\n",
    "        print(f\"{self.name} hunts for prey\")"
   ]
  },
  {
   "cell_type": "code",
   "execution_count": 6,
   "id": "01873a5c-141b-49e2-afed-e7865d58eae0",
   "metadata": {},
   "outputs": [
    {
     "name": "stdout",
     "output_type": "stream",
     "text": [
      "Inheritance Types\n",
      "Name: Buddy, Species: Canine\n",
      "Buddy barks: Woof!\n",
      "Buddy fetches the ball\n",
      "Name: Whiskers, Species: Feline\n",
      "Whiskers meows: Meow!\n",
      "Whiskers breathes air\n",
      "Whiskers purrs contentedly\n",
      "Name: Donald, Species: Waterfowl\n",
      "Donald quacks: Quack!\n",
      "Flying in the sky\n",
      "Swimming in water\n",
      "Name: Baldy, Species: Avian\n",
      "Baldy chirps\n",
      "Baldy hunts for prey\n",
      "\n"
     ]
    }
   ],
   "source": [
    "print(\"Inheritance Types\")\n",
    "dog = Dog(\"Buddy\", \"Golden Retriever\")\n",
    "dog.info()\n",
    "dog.make_sound()\n",
    "dog.fetch()\n",
    "\n",
    "cat = Cat(\"Whiskers\", \"Persian\", \"White\")\n",
    "cat.info()\n",
    "cat.make_sound()\n",
    "cat.breathe()\n",
    "cat.purr()\n",
    "\n",
    "duck = Duck(\"Donald\")\n",
    "duck.info()\n",
    "duck.make_sound()\n",
    "duck.fly()\n",
    "duck.swim()\n",
    "\n",
    "eagle = Eagle(\"Baldy\", \"2 meters\")\n",
    "eagle.info()\n",
    "eagle.make_sound()\n",
    "eagle.hunt()\n",
    "print()"
   ]
  },
  {
   "cell_type": "code",
   "execution_count": null,
   "id": "a83256a8-356b-4bec-9cb9-264fe78ac83e",
   "metadata": {},
   "outputs": [],
   "source": []
  }
 ],
 "metadata": {
  "kernelspec": {
   "display_name": "Python 3 (ipykernel)",
   "language": "python",
   "name": "python3"
  },
  "language_info": {
   "codemirror_mode": {
    "name": "ipython",
    "version": 3
   },
   "file_extension": ".py",
   "mimetype": "text/x-python",
   "name": "python",
   "nbconvert_exporter": "python",
   "pygments_lexer": "ipython3",
   "version": "3.11.4"
  }
 },
 "nbformat": 4,
 "nbformat_minor": 5
}
