{
 "cells": [
  {
   "cell_type": "markdown",
   "id": "e805ef23-232f-4f0b-916a-ce85f0fa462b",
   "metadata": {},
   "source": [
    "Method Overloading "
   ]
  },
  {
   "cell_type": "code",
   "execution_count": 1,
   "id": "cac61e11-1efa-4812-bdb2-9433701b1e38",
   "metadata": {},
   "outputs": [
    {
     "name": "stdout",
     "output_type": "stream",
     "text": [
      "11\n",
      "Hi Geeks\n"
     ]
    }
   ],
   "source": [
    "def add(datatype, *args): \n",
    "    if datatype =='int': \n",
    "        answer = 0\n",
    "    if datatype =='str': \n",
    "        answer ='' \n",
    "    for x in args: \n",
    "        answer = answer + x \n",
    "    print(answer) \n",
    "add('int', 5, 6) \n",
    "add('str', 'Hi ', 'Hanzla')"
   ]
  },
  {
   "cell_type": "markdown",
   "id": "96107f13-6a83-434b-8478-d6063e5d4d73",
   "metadata": {},
   "source": [
    "Method Overridding"
   ]
  },
  {
   "cell_type": "code",
   "execution_count": 6,
   "id": "94fb1191-5ec7-400b-ae8b-60208af2970c",
   "metadata": {},
   "outputs": [
    {
     "name": "stdout",
     "output_type": "stream",
     "text": [
      "Regular car:\n",
      "Vehicle engine started\n",
      "Generic vehicle\n",
      "\n",
      "Electric car:\n",
      "Tesla electric motor started silently\n",
      "Tesla Electric Car with 75kWh battery\n",
      "Charging Tesla battery...\n"
     ]
    }
   ],
   "source": [
    "class Vehicle:\n",
    "    def start_engine(self):\n",
    "        print(\"Vehicle engine started\")\n",
    "    def stop_engine(self):\n",
    "        print(\"Vehicle engine stopped\")\n",
    "    def get_info(self):\n",
    "        return \"Generic vehicle\"\n",
    "class ElectricCar(Vehicle):\n",
    "    def __init__(self, brand, battery_capacity):\n",
    "        self.brand = brand\n",
    "        self.battery_capacity = battery_capacity\n",
    "    def start_engine(self):  # Override parent method\n",
    "        print(f\"{self.brand} electric motor started silently\")\n",
    "    def stop_engine(self):  # Override parent method\n",
    "        print(f\"{self.brand} electric motor stopped\")\n",
    "    def get_info(self):  # Override parent method\n",
    "        return f\"{self.brand} Electric Car with {self.battery_capacity}kWh battery\"\n",
    "    def charge_battery(self):\n",
    "        print(f\"Charging {self.brand} battery...\")\n",
    "\n",
    "regular_car = Vehicle()\n",
    "electric_car = ElectricCar(\"Tesla\", 75)\n",
    "print(\"Regular car:\")\n",
    "regular_car.start_engine()\n",
    "print(regular_car.get_info())\n",
    "print(\"\\nElectric car:\")\n",
    "electric_car.start_engine()\n",
    "print(electric_car.get_info())\n",
    "electric_car.charge_battery()"
   ]
  },
  {
   "cell_type": "code",
   "execution_count": null,
   "id": "45b3cf82-e23a-4899-9b1c-ef1fb512919e",
   "metadata": {},
   "outputs": [],
   "source": []
  }
 ],
 "metadata": {
  "kernelspec": {
   "display_name": "Python 3 (ipykernel)",
   "language": "python",
   "name": "python3"
  },
  "language_info": {
   "codemirror_mode": {
    "name": "ipython",
    "version": 3
   },
   "file_extension": ".py",
   "mimetype": "text/x-python",
   "name": "python",
   "nbconvert_exporter": "python",
   "pygments_lexer": "ipython3",
   "version": "3.13.5"
  }
 },
 "nbformat": 4,
 "nbformat_minor": 5
}
