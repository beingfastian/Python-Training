{
 "cells": [
  {
   "cell_type": "code",
   "execution_count": 1,
   "id": "c8851f37-609e-4e07-9a37-4623408f3bd4",
   "metadata": {},
   "outputs": [],
   "source": [
    "class Shape:\n",
    "    def area(self):\n",
    "        pass\n",
    "    def perimeter(self):\n",
    "        pass"
   ]
  },
  {
   "cell_type": "code",
   "execution_count": 2,
   "id": "9966677d-25b7-4085-8adb-7839d33f2fd6",
   "metadata": {},
   "outputs": [],
   "source": [
    "class Rectangle(Shape):\n",
    "    def __init__(self, width, height):\n",
    "        self.width = width\n",
    "        self.height = height\n",
    "    def area(self):\n",
    "        return self.width * self.height\n",
    "    def perimeter(self):\n",
    "        return 2 * (self.width + self.height)"
   ]
  },
  {
   "cell_type": "code",
   "execution_count": 3,
   "id": "fb206f37-3eb2-4f83-ae7a-e53e0c7779bf",
   "metadata": {},
   "outputs": [],
   "source": [
    "class Circle(Shape):\n",
    "    def __init__(self, radius):\n",
    "        self.radius = radius\n",
    "    def area(self):\n",
    "        return 3.14159 * self.radius ** 2\n",
    "    def perimeter(self):\n",
    "        return 2 * 3.14159 * self.radius"
   ]
  },
  {
   "cell_type": "code",
   "execution_count": 4,
   "id": "963548c6-22f5-42ab-b389-16562ff9347a",
   "metadata": {},
   "outputs": [],
   "source": [
    "class Triangle(Shape):\n",
    "    def __init__(self, base, height, side1, side2, side3):\n",
    "        self.base = base\n",
    "        self.height = height\n",
    "        self.side1 = side1\n",
    "        self.side2 = side2\n",
    "        self.side3 = side3\n",
    "    def area(self):\n",
    "        return 0.5 * self.base * self.height\n",
    "    def perimeter(self):\n",
    "        return self.side1 + self.side2 + self.side3"
   ]
  },
  {
   "cell_type": "code",
   "execution_count": 5,
   "id": "9b7a5ab4-db3a-4129-a663-182964135a61",
   "metadata": {},
   "outputs": [],
   "source": [
    "def calculate_shape_properties(shape):\n",
    "    \"\"\"Function demonstrating polymorphism\"\"\"\n",
    "    print(f\"Area: {shape.area():.2f}\")\n",
    "    print(f\"Perimeter: {shape.perimeter():.2f}\")"
   ]
  },
  {
   "cell_type": "code",
   "execution_count": 6,
   "id": "ac1ed36e-1198-4c4c-bf09-daf7ded8f80e",
   "metadata": {},
   "outputs": [
    {
     "name": "stdout",
     "output_type": "stream",
     "text": [
      "Polymorphism\n",
      "Shape 1: Rectangle\n",
      "Area: 15.00\n",
      "Perimeter: 16.00\n",
      "\n",
      "Shape 2: Circle\n",
      "Area: 50.27\n",
      "Perimeter: 25.13\n",
      "\n",
      "Shape 3: Triangle\n",
      "Area: 12.00\n",
      "Perimeter: 12.00\n",
      "\n"
     ]
    }
   ],
   "source": [
    "print(\"Polymorphism\")\n",
    "shapes = [\n",
    "    Rectangle(5, 3),\n",
    "    Circle(4),\n",
    "    Triangle(6, 4, 3, 4, 5)\n",
    "]\n",
    "for i, shape in enumerate(shapes):\n",
    "    print(f\"Shape {i+1}: {shape.__class__.__name__}\")\n",
    "    calculate_shape_properties(shape)\n",
    "    print()\n"
   ]
  },
  {
   "cell_type": "code",
   "execution_count": null,
   "id": "0e3fc81f-071a-4442-bc19-f8047dd90fac",
   "metadata": {},
   "outputs": [],
   "source": []
  }
 ],
 "metadata": {
  "kernelspec": {
   "display_name": "Python 3 (ipykernel)",
   "language": "python",
   "name": "python3"
  },
  "language_info": {
   "codemirror_mode": {
    "name": "ipython",
    "version": 3
   },
   "file_extension": ".py",
   "mimetype": "text/x-python",
   "name": "python",
   "nbconvert_exporter": "python",
   "pygments_lexer": "ipython3",
   "version": "3.11.4"
  }
 },
 "nbformat": 4,
 "nbformat_minor": 5
}
