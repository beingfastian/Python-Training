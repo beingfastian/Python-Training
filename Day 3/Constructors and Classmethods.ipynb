{
 "cells": [
  {
   "cell_type": "code",
   "execution_count": 4,
   "id": "00df7741-011c-4edf-b7b0-5bedb4dec5f1",
   "metadata": {},
   "outputs": [
    {
     "name": "stdout",
     "output_type": "stream",
     "text": [
      "Constructors and Class Methods\n",
      "Car created: Toyota Camry\n",
      "Car created: Honda Civic\n",
      "Total cars created: 2\n",
      "Car: Toyota Camry (2023)\n",
      "Car: Honda Civic (2022)\n"
     ]
    }
   ],
   "source": [
    "class Car:\n",
    "    total_cars = 0  \n",
    "    def __init__(self, brand, model, year=2023):\n",
    "        self.brand = brand\n",
    "        self.model = model\n",
    "        self.year = year\n",
    "        Car.total_cars += 1\n",
    "        print(f\"Car created: {self.brand} {self.model}\")\n",
    "    @classmethod\n",
    "    def from_string(cls, car_string):\n",
    "        brand, model, year = car_string.split('-')\n",
    "        return cls(brand, model, int(year))\n",
    "    @classmethod\n",
    "    def get_total_cars(cls):\n",
    "        return cls.total_cars\n",
    "    def display_info(self):\n",
    "        print(f\"Car: {self.brand} {self.model} ({self.year})\")\n",
    "\n",
    "print(\"Constructors and Class Methods\")\n",
    "car1 = Car(\"Toyota\", \"Camry\")\n",
    "car2 = Car.from_string(\"Honda-Civic-2022\") \n",
    "print(f\"Total cars created: {Car.get_total_cars()}\")\n",
    "car1.display_info()\n",
    "car2.display_info()"
   ]
  }
 ],
 "metadata": {
  "kernelspec": {
   "display_name": "Python 3 (ipykernel)",
   "language": "python",
   "name": "python3"
  },
  "language_info": {
   "codemirror_mode": {
    "name": "ipython",
    "version": 3
   },
   "file_extension": ".py",
   "mimetype": "text/x-python",
   "name": "python",
   "nbconvert_exporter": "python",
   "pygments_lexer": "ipython3",
   "version": "3.11.4"
  }
 },
 "nbformat": 4,
 "nbformat_minor": 5
}
