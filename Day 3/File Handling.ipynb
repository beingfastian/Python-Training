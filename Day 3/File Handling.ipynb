{
 "cells": [
  {
   "cell_type": "code",
   "execution_count": 3,
   "id": "aa743fc5-2281-4f24-b2fd-a2c0819a1dff",
   "metadata": {},
   "outputs": [
    {
     "name": "stdout",
     "output_type": "stream",
     "text": [
      "15\n"
     ]
    }
   ],
   "source": [
    "#writting file\n",
    "f = open(\"myFile.txt\", 'w')\n",
    "write = f.write(\"Hello, Hanzla!!\")\n",
    "print(write)\n",
    "f.close()"
   ]
  },
  {
   "cell_type": "code",
   "execution_count": 8,
   "id": "f4ae1cff-aac0-4756-a544-b8c090db9b08",
   "metadata": {},
   "outputs": [
    {
     "name": "stdout",
     "output_type": "stream",
     "text": [
      "Hello, Hanzla!!\n"
     ]
    }
   ],
   "source": [
    "#reading file\n",
    "f = open(\"myFile.txt\", 'r')\n",
    "read = f.read()\n",
    "print(read)\n",
    "f.close()"
   ]
  },
  {
   "cell_type": "code",
   "execution_count": 19,
   "id": "64a8f42f-140d-4974-9c75-410919652513",
   "metadata": {},
   "outputs": [
    {
     "name": "stdout",
     "output_type": "stream",
     "text": [
      "13\n"
     ]
    }
   ],
   "source": [
    "f = open(\"myFile.txt\", 'a')\n",
    "write = f.write(\"\\nHow are you?\")\n",
    "print(write)\n",
    "f.close()"
   ]
  },
  {
   "cell_type": "code",
   "execution_count": 23,
   "id": "8d5feef1-9284-418c-aed5-c59dca5f8ae6",
   "metadata": {},
   "outputs": [
    {
     "name": "stdout",
     "output_type": "stream",
     "text": [
      "Hello, Hanzla!!  \n",
      " \n",
      "How are you?\n",
      "\n"
     ]
    }
   ],
   "source": [
    "#removing or replacing content\n",
    "f = open(\"myFile.txt\",'r')\n",
    "content  = f.read() \n",
    "read_single_line = f.readline()\n",
    "print(content)\n",
    "print(read_single_line)\n",
    "# remove = content.replace(\"How are you?\", \" \")\n",
    "\n",
    "# f = open(\"myFile.txt\", \"w\")\n",
    "# f.write(remove)\n",
    "# f.close()\n",
    "\n",
    "# f = open(\"myFile.txt\",'r')\n",
    "# read = f.readline()\n",
    "# print(read)"
   ]
  },
  {
   "cell_type": "code",
   "execution_count": 28,
   "id": "a7dd425e-3963-42cb-ba61-3cd7fa703bd8",
   "metadata": {
    "scrolled": true
   },
   "outputs": [
    {
     "name": "stdout",
     "output_type": "stream",
     "text": [
      "None\n"
     ]
    }
   ],
   "source": [
    "#writeline\n",
    "f = open(\"myFile.txt\", 'a')\n",
    "write = f.writelines(\"\\n Are you learning python?\")\n",
    "print(write)\n",
    "f.close()"
   ]
  },
  {
   "cell_type": "code",
   "execution_count": 29,
   "id": "ebb5a993-3b5a-4355-b9e2-9f9632b1b25d",
   "metadata": {},
   "outputs": [
    {
     "name": "stdout",
     "output_type": "stream",
     "text": [
      "Hello, Hanzla!!  \n",
      " \n",
      "How are you?\n",
      " Are you learning python?\n",
      "\n"
     ]
    }
   ],
   "source": [
    "f = open(\"myFile.txt\",'r')\n",
    "content  = f.read() \n",
    "read_single_line = f.readline()\n",
    "print(content)\n",
    "print(read_single_line)"
   ]
  },
  {
   "cell_type": "code",
   "execution_count": 35,
   "id": "210ffcb2-7a9b-4757-9e45-1852818d58fe",
   "metadata": {},
   "outputs": [
    {
     "name": "stdout",
     "output_type": "stream",
     "text": [
      "\n"
     ]
    }
   ],
   "source": [
    "f = open(\"myFile.txt\",'r+')\n",
    "content = f.read()\n",
    "string = \"\\n How's going your training\"\n",
    "writeline = f.write(string)\n",
    "updated_content = f.read()\n",
    "print(updated_content)\n",
    "f.close()"
   ]
  },
  {
   "cell_type": "code",
   "execution_count": 36,
   "id": "99ed3877-c310-40fa-ad33-4b295108970f",
   "metadata": {},
   "outputs": [
    {
     "name": "stdout",
     "output_type": "stream",
     "text": [
      "Hello, Hanzla!!  \n",
      " \n",
      "How are you?\n",
      " Are you learning python?\n",
      " How's going your training\n",
      " How's going your training\n",
      " How's going your training\n",
      " How's going your training\n",
      " How's going your training\n",
      " How's going your training\n"
     ]
    }
   ],
   "source": [
    "f = open(\"myFile.txt\",'r')\n",
    "content = f.read()\n",
    "print(content)"
   ]
  },
  {
   "cell_type": "code",
   "execution_count": 37,
   "id": "3f19a0fc-14f2-4dca-97ae-a6e5f5a60c44",
   "metadata": {},
   "outputs": [
    {
     "name": "stdout",
     "output_type": "stream",
     "text": [
      "Updated Content:\n",
      "Hello, Hanzla!!\n",
      "How's your training going?\n"
     ]
    }
   ],
   "source": [
    "f = open(\"myFile.txt\", 'w+')\n",
    "f.write(\"Hello, Hanzla!!\")\n",
    "f.seek(0, 2)\n",
    "string = \"\\nHow's your training going?\"\n",
    "f.write(string)\n",
    "f.seek(0)\n",
    "updated = f.read()\n",
    "print(\"Updated Content:\")\n",
    "print(updated)\n",
    "f.close()"
   ]
  }
 ],
 "metadata": {
  "kernelspec": {
   "display_name": "Python 3 (ipykernel)",
   "language": "python",
   "name": "python3"
  },
  "language_info": {
   "codemirror_mode": {
    "name": "ipython",
    "version": 3
   },
   "file_extension": ".py",
   "mimetype": "text/x-python",
   "name": "python",
   "nbconvert_exporter": "python",
   "pygments_lexer": "ipython3",
   "version": "3.13.5"
  }
 },
 "nbformat": 4,
 "nbformat_minor": 5
}
