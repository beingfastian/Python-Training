{
 "cells": [
  {
   "cell_type": "code",
   "execution_count": 14,
   "id": "e42ad773-71a8-4e84-b026-4f52841d655c",
   "metadata": {},
   "outputs": [
    {
     "name": "stdout",
     "output_type": "stream",
     "text": [
      "=== Class, Instance, and Static Variables/Methods Demo ===\n",
      "Bank: Python Bank, Total Accounts: 2\n",
      "Deposited $200. New balance: $1200\n",
      "Withdrew $150. New balance: $1050\n",
      "Interest rate updated to 6.0%\n",
      "Compound Interest: $1123.60\n",
      "Account number 123 is valid: True\n",
      "\n"
     ]
    }
   ],
   "source": [
    "\n",
    "class BankAccount:  \n",
    "    # Class variables\n",
    "    bank_name = \"Python Bank\"\n",
    "    total_accounts = 0\n",
    "    interest_rate = 0.05\n",
    "    \n",
    "    def __init__(self, account_holder, initial_balance=0):\n",
    "        # Instance variables\n",
    "        self.account_holder = account_holder\n",
    "        self.balance = initial_balance\n",
    "        self.account_number = BankAccount.total_accounts + 1\n",
    "        BankAccount.total_accounts += 1\n",
    "    \n",
    "    # Instance method\n",
    "    def deposit(self, amount):\n",
    "        self.balance += amount\n",
    "        print(f\"Deposited ${amount}. New balance: ${self.balance}\")\n",
    "    \n",
    "    def withdraw(self, amount):\n",
    "        if amount <= self.balance:\n",
    "            self.balance -= amount\n",
    "            print(f\"Withdrew ${amount}. New balance: ${self.balance}\")\n",
    "        else:\n",
    "            print(\"Insufficient funds!\")\n",
    "    \n",
    "    # Class method\n",
    "    @classmethod\n",
    "    def get_bank_info(cls):\n",
    "        return f\"Bank: {cls.bank_name}, Total Accounts: {cls.total_accounts}\"\n",
    "    \n",
    "    @classmethod\n",
    "    def set_interest_rate(cls, new_rate):\n",
    " \n",
    "        cls.interest_rate = new_rate\n",
    "        print(f\"Interest rate updated to {new_rate*100}%\")\n",
    "    \n",
    "    # Static method\n",
    "    @staticmethod\n",
    "    def calculate_compound_interest(principal, rate, time):\n",
    "        return principal * (1 + rate) ** time\n",
    "    \n",
    "    @staticmethod\n",
    "    def validate_account_number(account_number):\n",
    "        return isinstance(account_number, int) and account_number > 0\n",
    "\n",
    "print(\"Class, Instance, and Static Variables/Methods\")\n",
    "account1 = BankAccount(\"Alice\", 1000)\n",
    "account2 = BankAccount(\"Bob\", 500)\n",
    "\n",
    "print(BankAccount.get_bank_info())\n",
    "account1.deposit(200)\n",
    "account1.withdraw(150)\n",
    "\n",
    "BankAccount.set_interest_rate(0.06)\n",
    "compound_interest = BankAccount.calculate_compound_interest(1000, 0.06, 2)\n",
    "print(f\"Compound Interest: ${compound_interest:.2f}\")\n",
    "\n",
    "is_valid = BankAccount.validate_account_number(123)\n",
    "print(f\"Account number 123 is valid: {is_valid}\")\n",
    "print()"
   ]
  },
  {
   "cell_type": "code",
   "execution_count": null,
   "id": "cb23721e-5d2b-47c3-b35a-5062e85f6e3a",
   "metadata": {},
   "outputs": [],
   "source": [
    "class Dog:\n",
    "    def bark(self):\n",
    "        print(\"Woof! 🐶\")\n",
    "def new_bark(self):\n",
    "    print(\"Meow? 🐱\")  \n",
    "Dog.bark = new_bark  \n",
    "\n",
    "# Now create an object\n",
    "d = Dog()\n",
    "d.bark()  # Output: Meow? 🐱\n"
   ]
  }
 ],
 "metadata": {
  "kernelspec": {
   "display_name": "Python 3 (ipykernel)",
   "language": "python",
   "name": "python3"
  },
  "language_info": {
   "codemirror_mode": {
    "name": "ipython",
    "version": 3
   },
   "file_extension": ".py",
   "mimetype": "text/x-python",
   "name": "python",
   "nbconvert_exporter": "python",
   "pygments_lexer": "ipython3",
   "version": "3.13.5"
  }
 },
 "nbformat": 4,
 "nbformat_minor": 5
}
