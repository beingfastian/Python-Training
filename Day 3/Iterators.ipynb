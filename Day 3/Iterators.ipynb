{
 "cells": [
  {
   "cell_type": "code",
   "execution_count": 7,
   "id": "5d80d131-d269-445b-ab5d-3c21c7cc44ab",
   "metadata": {},
   "outputs": [],
   "source": [
    "SampleList = [\"Hello\", \"are\", \"you\", \"!!\", \"Hope\", \"you\", \"are\", \"doing\", \"well\"]"
   ]
  },
  {
   "cell_type": "code",
   "execution_count": 38,
   "id": "733f3a9d-8e3f-4639-a052-6c2c3add3b68",
   "metadata": {},
   "outputs": [
    {
     "name": "stdout",
     "output_type": "stream",
     "text": [
      "Hello\n",
      "are\n",
      "you\n",
      "!!\n",
      "Hope\n",
      "you\n",
      "are\n",
      "doing\n",
      "well\n",
      "Hello\n",
      "are\n",
      "you\n",
      "!!\n",
      "Hope\n",
      "you\n",
      "are\n",
      "doing\n",
      "well\n"
     ]
    }
   ],
   "source": [
    "for i in SampleList:\n",
    "    print(i)"
   ]
  },
  {
   "cell_type": "code",
   "execution_count": 39,
   "id": "a86a97d9-307c-4df5-ba6c-88951550fd70",
   "metadata": {},
   "outputs": [
    {
     "name": "stdout",
     "output_type": "stream",
     "text": [
      "Hello\n",
      "are\n",
      "you\n",
      "!!\n",
      "Hope\n",
      "you\n",
      "are\n",
      "doing\n",
      "well\n"
     ]
    },
    {
     "ename": "StopIteration",
     "evalue": "",
     "output_type": "error",
     "traceback": [
      "\u001b[1;31m---------------------------------------------------------------------------\u001b[0m",
      "\u001b[1;31mStopIteration\u001b[0m                             Traceback (most recent call last)",
      "Cell \u001b[1;32mIn[39], line 11\u001b[0m\n\u001b[0;32m      9\u001b[0m \u001b[38;5;28mprint\u001b[39m(\u001b[38;5;28mnext\u001b[39m(myit))\n\u001b[0;32m     10\u001b[0m \u001b[38;5;28mprint\u001b[39m(\u001b[38;5;28mnext\u001b[39m(myit))\n\u001b[1;32m---> 11\u001b[0m \u001b[38;5;28mprint\u001b[39m(\u001b[38;5;28mnext\u001b[39m(myit))\n\u001b[0;32m     12\u001b[0m \u001b[38;5;28;01mfor\u001b[39;00m i \u001b[38;5;129;01min\u001b[39;00m myit:\n\u001b[0;32m     13\u001b[0m     \u001b[38;5;28mprint\u001b[39m(i)\n",
      "\u001b[1;31mStopIteration\u001b[0m: "
     ]
    }
   ],
   "source": [
    "myit = iter(SampleList)\n",
    "print(next(myit))\n",
    "print(next(myit))\n",
    "print(next(myit))\n",
    "print(next(myit))\n",
    "print(next(myit))\n",
    "print(next(myit))\n",
    "print(next(myit))\n",
    "print(next(myit))\n",
    "print(next(myit))\n",
    "print(next(myit))\n",
    "for i in myit:\n",
    "    print(i)"
   ]
  },
  {
   "cell_type": "code",
   "execution_count": 35,
   "id": "f60ce54b-42d9-477f-bc32-1a8d73d3fac3",
   "metadata": {},
   "outputs": [],
   "source": [
    "#Build Custom Iterators\n",
    "class CountToFive:\n",
    "    def __init__(self):\n",
    "        self.num = 1  \n",
    "    def __iter__(self):\n",
    "        return self  \n",
    "    def __next__(self):\n",
    "        if self.num <= 5:\n",
    "            val = self.num\n",
    "            self.num += 1\n",
    "            return val\n",
    "        else:\n",
    "            raise StopIteration  "
   ]
  },
  {
   "cell_type": "code",
   "execution_count": 36,
   "id": "99fdbfb5-c236-425e-9f37-e1793fa1252c",
   "metadata": {},
   "outputs": [
    {
     "name": "stdout",
     "output_type": "stream",
     "text": [
      "1\n",
      "2\n",
      "3\n",
      "4\n",
      "5\n"
     ]
    }
   ],
   "source": [
    "count = CountToFive()\n",
    "for i in count:\n",
    "    print(i)"
   ]
  },
  {
   "cell_type": "code",
   "execution_count": 18,
   "id": "1dbf0bb9-815e-4cbd-9a89-3ece67b22c2b",
   "metadata": {},
   "outputs": [
    {
     "name": "stdout",
     "output_type": "stream",
     "text": [
      "5 7 9 11 13 15 17 19 21 23 25 27 29 31 33 "
     ]
    }
   ],
   "source": [
    "import itertools\n",
    "for i in itertools.count(5, 2):\n",
    "    if i == 35:\n",
    "        break\n",
    "    else:\n",
    "        print(i, end = \" \")"
   ]
  },
  {
   "cell_type": "code",
   "execution_count": 23,
   "id": "53b0403f-eac9-4dba-b04d-f5705fe51b9e",
   "metadata": {},
   "outputs": [
    {
     "name": "stdout",
     "output_type": "stream",
     "text": [
      "A B A B A B A B A "
     ]
    }
   ],
   "source": [
    "import itertools\n",
    "count = 0\n",
    "for i in itertools.cycle('AB'):\n",
    "    if count > 8:\n",
    "        break\n",
    "    else:\n",
    "        print(i, end = \" \")\n",
    "        count += 1"
   ]
  },
  {
   "cell_type": "code",
   "execution_count": 24,
   "id": "90c12331-33c4-4878-8e34-47fe78f4ffa5",
   "metadata": {},
   "outputs": [
    {
     "name": "stdout",
     "output_type": "stream",
     "text": [
      "Printing the numbers repeatedly : \n",
      "[25, 25, 25, 25]\n"
     ]
    }
   ],
   "source": [
    "import itertools \n",
    "print (\"Printing the numbers repeatedly : \") \n",
    "print (list(itertools.repeat(25, 4)))"
   ]
  },
  {
   "cell_type": "code",
   "execution_count": null,
   "id": "329b557d-68e8-42ac-86c4-d5f1579099f6",
   "metadata": {},
   "outputs": [],
   "source": [
    "\n"
   ]
  }
 ],
 "metadata": {
  "kernelspec": {
   "display_name": "Python 3 (ipykernel)",
   "language": "python",
   "name": "python3"
  },
  "language_info": {
   "codemirror_mode": {
    "name": "ipython",
    "version": 3
   },
   "file_extension": ".py",
   "mimetype": "text/x-python",
   "name": "python",
   "nbconvert_exporter": "python",
   "pygments_lexer": "ipython3",
   "version": "3.13.5"
  }
 },
 "nbformat": 4,
 "nbformat_minor": 5
}
